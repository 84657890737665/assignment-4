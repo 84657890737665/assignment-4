{
  "nbformat": 4,
  "nbformat_minor": 0,
  "metadata": {
    "colab": {
      "provenance": [],
      "authorship_tag": "ABX9TyPzVm1R4H5yiKphNUmg9OkW",
      "include_colab_link": true
    },
    "kernelspec": {
      "name": "python3",
      "display_name": "Python 3"
    },
    "language_info": {
      "name": "python"
    }
  },
  "cells": [
    {
      "cell_type": "markdown",
      "metadata": {
        "id": "view-in-github",
        "colab_type": "text"
      },
      "source": [
        "<a href=\"https://colab.research.google.com/github/84657890737665/assignment-4/blob/main/Project_3_GuessNum(user).ipynb\" target=\"_parent\"><img src=\"https://colab.research.google.com/assets/colab-badge.svg\" alt=\"Open In Colab\"/></a>"
      ]
    },
    {
      "cell_type": "markdown",
      "source": [
        "**Guess The Number Game (User)**"
      ],
      "metadata": {
        "id": "CY2GmBKP9F9D"
      }
    },
    {
      "cell_type": "code",
      "source": [
        "import random\n",
        "print(\"Welcome to the Reverse Guess The Number Game! 🎮\")\n",
        "print(\"-\"*60)\n",
        "print(\"Think of a number between 1-100 and I'll try to guess it! 🤖\")\n",
        "print(\"\\\"\"*65)\n",
        "\n",
        "\n",
        "low=1\n",
        "high=100\n",
        "attempts=0\n",
        "\n",
        "while True:\n",
        "  guess=random.randint(low,high)\n",
        "  attempts+=1\n",
        "\n",
        "  user_input=input(f\"It is {guess}? (H/L/C):\").strip().upper()\n",
        "\n",
        "  if user_input == \"H\":\n",
        "    high= guess-1\n",
        "    print(\"Too High? Let me try again..\")\n",
        "\n",
        "  elif user_input == \"L\":\n",
        "      low= guess+1\n",
        "      print(\"Too Low? let me try again..\")\n",
        "\n",
        "  elif user_input == \"C\":\n",
        "      print(f\"Wow! I guessed it in {attempts} tries\")\n",
        "      break\n",
        "\n",
        "  else:\n",
        "        print(\"Please Enter 'H' , 'L' , 'C' \")"
      ],
      "metadata": {
        "id": "loc8lJj99TKx",
        "colab": {
          "base_uri": "https://localhost:8080/"
        },
        "outputId": "c0591f0c-0537-40a7-e478-b9a7e7eeb3fb"
      },
      "execution_count": 2,
      "outputs": [
        {
          "output_type": "stream",
          "name": "stdout",
          "text": [
            "Welcome to the Reverse Guess The Number Game! 🎮\n",
            "------------------------------------------------------------\n",
            "Think of a number between 1-100 and I'll try to guess it! 🤖\n",
            "\"\"\"\"\"\"\"\"\"\"\"\"\"\"\"\"\"\"\"\"\"\"\"\"\"\"\"\"\"\"\"\"\"\"\"\"\"\"\"\"\"\"\"\"\"\"\"\"\"\"\"\"\"\"\"\"\"\"\"\"\"\"\"\"\"\n",
            "It is 78? (H/L/C):h\n",
            "Too High? Let me try again..\n",
            "It is 5? (H/L/C):l\n",
            "Too Low? let me try again..\n",
            "It is 44? (H/L/C):l\n",
            "Too Low? let me try again..\n",
            "It is 57? (H/L/C):l\n",
            "Too Low? let me try again..\n",
            "It is 71? (H/L/C):l\n",
            "Too Low? let me try again..\n",
            "It is 76? (H/L/C):c\n",
            "Wow! I guessed it in 6 tries\n"
          ]
        }
      ]
    }
  ]
}