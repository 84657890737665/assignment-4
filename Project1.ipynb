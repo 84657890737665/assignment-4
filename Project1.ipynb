{
  "nbformat": 4,
  "nbformat_minor": 0,
  "metadata": {
    "colab": {
      "provenance": [],
      "authorship_tag": "ABX9TyMl4uMuX8UvBkmHnkvXuAM7",
      "include_colab_link": true
    },
    "kernelspec": {
      "name": "python3",
      "display_name": "Python 3"
    },
    "language_info": {
      "name": "python"
    }
  },
  "cells": [
    {
      "cell_type": "markdown",
      "metadata": {
        "id": "view-in-github",
        "colab_type": "text"
      },
      "source": [
        "<a href=\"https://colab.research.google.com/github/84657890737665/assignment-4/blob/main/Project1.ipynb\" target=\"_parent\"><img src=\"https://colab.research.google.com/assets/colab-badge.svg\" alt=\"Open In Colab\"/></a>"
      ]
    },
    {
      "cell_type": "code",
      "execution_count": 10,
      "metadata": {
        "colab": {
          "base_uri": "https://localhost:8080/"
        },
        "id": "FHUAXs_-LG4o",
        "outputId": "67481fe9-3049-4d25-c99c-035025520086"
      },
      "outputs": [
        {
          "output_type": "stream",
          "name": "stdout",
          "text": [
            "Welcome to Our Story Creator\n",
            "------------------------------------------------------------\n",
            "Enter Your Name: t\n",
            "What is your age? 25\n",
            "What field you're working in? b\n",
            "What expertise you have? \n",
            "What did you developed or done? c\n",
            "What is your secret? c\n",
            "\n",
            "\n",
            "\"\"\"\"\"\"\"\"\"\"\"\"\"\"\"\"\"\"\"\"\"\"\"\"\"\"\"\"\"\"\"\"\"\"\"\"\"\"\"\"\"\"\"\"\"\"\"\"\"\"\"\"\"\"\"\"\"\"\"\"\n",
            "Your Story \n",
            "------------------------------------------------------------\n",
            "At 25 , t, a person with expertise in  in b, created c, Launched quietly, c went viral in weeks, attracting millions with its unique model. In just 30 days, its valuation soared, making t a multi-billionaire.c were his true currency.People marveled at how his vision transformed ordinary thoughts into extraordinary wealth in record time.Skeptics laughed at first, but his bold strategy proved that ideas could be worth more than money.His knack for turning a single spark of an idea into gold left everyone wondering how he did it.Critics called it madness to build a business on ideas alone, but his confidence silenced them as billions poured in.Some said luck played a part, but those close to him knew it was his relentless vision and a notebook filled with scribbled genius that fueled his work a rocket rise.\n",
            "------------------------------------------------------------\n"
          ]
        }
      ],
      "source": [
        "import random\n",
        "print(\"Welcome to Our Story Creator\")\n",
        "print(\"-\"*60)\n",
        "\n",
        "\n",
        "name=input(\"Enter Your Name: \")\n",
        "age=input(\"What is your age? \")\n",
        "field=input(\"What field you're working in? \")\n",
        "expertise=input(\"What expertise you have? \")\n",
        "Object=input(\"What did you developed or done? \")\n",
        "secret=input(\"What is your secret? \")\n",
        "sentence=[\n",
        "    \"People marveled at how his vision transformed ordinary thoughts into extraordinary wealth in record time.\"\n",
        "    \"Skeptics laughed at first, but his bold strategy proved that ideas could be worth more than money.\"\n",
        "    \"His knack for turning a single spark of an idea into gold left everyone wondering how he did it.\"\n",
        "    \"Critics called it madness to build a business on ideas alone, but his confidence silenced them as billions poured in.\"\n",
        "    \"Some said luck played a part, but those close to him knew it was his relentless vision and a notebook filled with scribbled genius that fueled his work a rocket rise.\"\n",
        "]\n",
        "\n",
        "\n",
        "random_sentence=random.choice(sentence)\n",
        "story=f\"At {age} , {name}, a person with expertise in {expertise} in {field}, created {Object}, Launched quietly, {Object} went viral in weeks, attracting millions with its unique model. In just 30 days, its valuation soared, making {name} a multi-billionaire.{secret} were his true currency.{random_sentence}\"\n",
        "\n",
        "print(\"\\n\")\n",
        "print(\"\\\"\"*60)\n",
        "print(\"Your Story \")\n",
        "print(\"-\"*60)\n",
        "print(story)\n",
        "print(\"-\"*60)\n"
      ]
    }
  ]
}