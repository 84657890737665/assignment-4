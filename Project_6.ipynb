{
  "nbformat": 4,
  "nbformat_minor": 0,
  "metadata": {
    "colab": {
      "provenance": [],
      "authorship_tag": "ABX9TyOTuLnsXdVduWMnW0dflr2Q",
      "include_colab_link": true
    },
    "kernelspec": {
      "name": "python3",
      "display_name": "Python 3"
    },
    "language_info": {
      "name": "python"
    }
  },
  "cells": [
    {
      "cell_type": "markdown",
      "metadata": {
        "id": "view-in-github",
        "colab_type": "text"
      },
      "source": [
        "<a href=\"https://colab.research.google.com/github/84657890737665/assignment-4/blob/main/Project_6.ipynb\" target=\"_parent\"><img src=\"https://colab.research.google.com/assets/colab-badge.svg\" alt=\"Open In Colab\"/></a>"
      ]
    },
    {
      "cell_type": "markdown",
      "source": [
        "***Password Generator***"
      ],
      "metadata": {
        "id": "DPFV1eTduagb"
      }
    },
    {
      "cell_type": "code",
      "source": [
        "import random\n",
        "import string\n",
        "\n",
        "print(\"Your Password Generator\")\n",
        "print(\"-\"*60)\n",
        "\n",
        "# characters to use in the password generation process\n",
        "characters = string.ascii_letters + string.digits + string.punctuation\n",
        "\n",
        "# this is how outcome will look like: abdvhjjkNKJDFH2654%$&*#@!\n",
        "\n",
        "# set the desired password length\n",
        "pass_length = int( input(\"Enter your desired Password length\"))\n",
        "if pass_length <= 4:\n",
        "  print(\"Weak Password length!\")\n",
        "else:\n",
        "\n",
        "# generate a random password\n",
        " password = ''.join(random.choice(characters) for i in range(pass_length))\n",
        " print(\"Generated Password:\" , password )\n",
        "\n"
      ],
      "metadata": {
        "colab": {
          "base_uri": "https://localhost:8080/"
        },
        "id": "c3rSuXGYybIO",
        "outputId": "03dad564-3e89-4807-f6b8-1bcfcc0eb135"
      },
      "execution_count": 1,
      "outputs": [
        {
          "output_type": "stream",
          "name": "stdout",
          "text": [
            "Your Password Generator\n",
            "------------------------------------------------------------\n",
            "Enter your desired Password length8\n",
            "Generated Password: gQH]zR{g\n"
          ]
        }
      ]
    }
  ]
}