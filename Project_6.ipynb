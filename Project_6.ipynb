{
  "nbformat": 4,
  "nbformat_minor": 0,
  "metadata": {
    "colab": {
      "provenance": [],
      "authorship_tag": "ABX9TyMIkd13niuM2YpQ37p3zQIs",
      "include_colab_link": true
    },
    "kernelspec": {
      "name": "python3",
      "display_name": "Python 3"
    },
    "language_info": {
      "name": "python"
    }
  },
  "cells": [
    {
      "cell_type": "markdown",
      "metadata": {
        "id": "view-in-github",
        "colab_type": "text"
      },
      "source": [
        "<a href=\"https://colab.research.google.com/github/84657890737665/assignment-4/blob/main/Project_6.ipynb\" target=\"_parent\"><img src=\"https://colab.research.google.com/assets/colab-badge.svg\" alt=\"Open In Colab\"/></a>"
      ]
    },
    {
      "cell_type": "markdown",
      "source": [
        "***Password Generator***"
      ],
      "metadata": {
        "id": "DPFV1eTduagb"
      }
    },
    {
      "cell_type": "code",
      "source": [
        "import random\n",
        "import string\n",
        "\n",
        "print(\"Your Password Generator\")\n",
        "print(\"-\"*60)\n",
        "\n",
        "# characters to use in the password generation process\n",
        "characters = string.ascii_letters + string.digits + string.punctuation\n",
        "\n",
        "# this is how outcome will look like: abdvhjjkNKJDFH2654%$&*#@!\n",
        "\n",
        "# set the desired password length\n",
        "pass_length = int( input(\"Enter your desired Password length: \"))\n",
        "if pass_length <= 4:\n",
        "  print(\"Weak Password length!\")\n",
        "else:\n",
        "\n",
        "# generate a random password\n",
        " password = ''.join(random.choice(characters) for i in range(pass_length))\n",
        " print(\"Generated Password:\" , password )\n",
        "\n"
      ],
      "metadata": {
        "colab": {
          "base_uri": "https://localhost:8080/"
        },
        "id": "c3rSuXGYybIO",
        "outputId": "a432cb7b-c5f4-443b-ada7-1c23ea839d85"
      },
      "execution_count": 2,
      "outputs": [
        {
          "output_type": "stream",
          "name": "stdout",
          "text": [
            "Your Password Generator\n",
            "------------------------------------------------------------\n",
            "Enter your desired Password length: 6\n",
            "Generated Password: 8UXy<I\n"
          ]
        }
      ]
    }
  ]
}