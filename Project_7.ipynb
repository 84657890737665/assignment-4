{
  "nbformat": 4,
  "nbformat_minor": 0,
  "metadata": {
    "colab": {
      "provenance": [],
      "authorship_tag": "ABX9TyNleLRGtXgL/aeRdZD6nVrs",
      "include_colab_link": true
    },
    "kernelspec": {
      "name": "python3",
      "display_name": "Python 3"
    },
    "language_info": {
      "name": "python"
    }
  },
  "cells": [
    {
      "cell_type": "markdown",
      "metadata": {
        "id": "view-in-github",
        "colab_type": "text"
      },
      "source": [
        "<a href=\"https://colab.research.google.com/github/84657890737665/assignment-4/blob/main/Project_7.ipynb\" target=\"_parent\"><img src=\"https://colab.research.google.com/assets/colab-badge.svg\" alt=\"Open In Colab\"/></a>"
      ]
    },
    {
      "cell_type": "markdown",
      "source": [
        "***Count Down Timer***"
      ],
      "metadata": {
        "id": "10BsfU8z5pOG"
      }
    },
    {
      "cell_type": "code",
      "source": [
        "import time\n",
        "\n",
        "# input from user\n",
        "seconds = int(input(\"Enter time in seconds: \"))\n",
        "\n",
        "# countdown loop\n",
        "while seconds > 0:\n",
        "  print(f\"Time left: {seconds} seconds \")\n",
        "  time.sleep(1) # Wait for 1 second\n",
        "  seconds-=1\n",
        "\n",
        "print(\"⏰ Time's up!!\")"
      ],
      "metadata": {
        "colab": {
          "base_uri": "https://localhost:8080/"
        },
        "id": "RfaHziPl6FsS",
        "outputId": "e418c8a1-9d3c-4ee6-d5a5-0ec87bdb59a7"
      },
      "execution_count": 2,
      "outputs": [
        {
          "output_type": "stream",
          "name": "stdout",
          "text": [
            "Enter time in seconds: 10\n",
            "Time left: 10 seconds \n",
            "Time left: 9 seconds \n",
            "Time left: 8 seconds \n",
            "Time left: 7 seconds \n",
            "Time left: 6 seconds \n",
            "Time left: 5 seconds \n",
            "Time left: 4 seconds \n",
            "Time left: 3 seconds \n",
            "Time left: 2 seconds \n",
            "Time left: 1 seconds \n",
            "⏰ Time's up!!\n"
          ]
        }
      ]
    }
  ]
}