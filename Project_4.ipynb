{
  "nbformat": 4,
  "nbformat_minor": 0,
  "metadata": {
    "colab": {
      "provenance": [],
      "authorship_tag": "ABX9TyOs3xh56ZTrRZ2VrSC6Lm4q",
      "include_colab_link": true
    },
    "kernelspec": {
      "name": "python3",
      "display_name": "Python 3"
    },
    "language_info": {
      "name": "python"
    }
  },
  "cells": [
    {
      "cell_type": "markdown",
      "metadata": {
        "id": "view-in-github",
        "colab_type": "text"
      },
      "source": [
        "<a href=\"https://colab.research.google.com/github/84657890737665/assignment-4/blob/main/Project_4.ipynb\" target=\"_parent\"><img src=\"https://colab.research.google.com/assets/colab-badge.svg\" alt=\"Open In Colab\"/></a>"
      ]
    },
    {
      "cell_type": "markdown",
      "source": [
        "***Rock Paper Scissor Game***"
      ],
      "metadata": {
        "id": "w9ZRBxNk_mEC"
      }
    },
    {
      "cell_type": "code",
      "source": [
        "import random\n",
        "print(\"Welcome to the Ultimate Rock, Paper, Scissor Battle!🎮 \")\n",
        "print(\"-\"*60)\n",
        "print(\"🤖 You vs Mighty Comp!💻 Let's see who wins.. 👀 \")\n",
        "print(\"\\\"\"*65)\n",
        "\n",
        "while True:\n",
        " user_input=input(\"Choose Your Weapon (Rock, Paper, Scissor):\").lower()\n",
        "\n",
        " if user_input not in [\"rock\" , \"paper\" , \"scissor\"]:\n",
        "   print(\"Not a valid Choice!\")\n",
        "   continue\n",
        "\n",
        " comp_choice=random.choice([\"rock\" , \"paper\" , \"scissor\"])\n",
        " print(f\"Your Choice {user_input}\")\n",
        " print(f\"Computer's Choice {comp_choice}\")\n",
        "\n",
        " if user_input == comp_choice:\n",
        "   print(\"It's a tie!\")\n",
        "\n",
        " elif (\n",
        "     (user_input == 'rock' and comp_choice == 'scissor') or\n",
        "     (user_input == 'paper' and comp_choice == 'scissor') or\n",
        "     (user_input == 'rock' and comp_choice == 'paper')\n",
        " ):\n",
        "   print(\"You Win!\")\n",
        " else:\n",
        "  print(\"Computer Wins! Try Again.. \")\n",
        "\n",
        " play_again=input(\"Would You like to play again? (yes/no)\" ).lower()\n",
        " if play_again !=\"yes\":\n",
        "  print(\"Alright! Will see you next time..\")\n",
        "  break"
      ],
      "metadata": {
        "colab": {
          "base_uri": "https://localhost:8080/"
        },
        "id": "AB7rXU7j_yVc",
        "outputId": "e053da80-e496-48c0-a603-0d05bbcf5d97"
      },
      "execution_count": 12,
      "outputs": [
        {
          "output_type": "stream",
          "name": "stdout",
          "text": [
            "Welcome to the Ultimate Rock, Paper, Scissor Battle!🎮 \n",
            "------------------------------------------------------------\n",
            "🤖 You vs Mighty Comp!💻 Let's see who wins.. 👀 \n",
            "\"\"\"\"\"\"\"\"\"\"\"\"\"\"\"\"\"\"\"\"\"\"\"\"\"\"\"\"\"\"\"\"\"\"\"\"\"\"\"\"\"\"\"\"\"\"\"\"\"\"\"\"\"\"\"\"\"\"\"\"\"\"\"\"\"\n",
            "Choose Your Weapon (Rock, Paper, Scissor):rock\n",
            "Your Choice rock\n",
            "Computer's Choice scissor\n",
            "You Win!\n",
            "Would You like to play again? (yes/no)no\n",
            "Alright! Will see you next time..\n"
          ]
        }
      ]
    }
  ]
}