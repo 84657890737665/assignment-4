{
  "nbformat": 4,
  "nbformat_minor": 0,
  "metadata": {
    "colab": {
      "provenance": [],
      "authorship_tag": "ABX9TyNh9UXr7B1gksX3Z66Gy//G",
      "include_colab_link": true
    },
    "kernelspec": {
      "name": "python3",
      "display_name": "Python 3"
    },
    "language_info": {
      "name": "python"
    }
  },
  "cells": [
    {
      "cell_type": "markdown",
      "metadata": {
        "id": "view-in-github",
        "colab_type": "text"
      },
      "source": [
        "<a href=\"https://colab.research.google.com/github/84657890737665/assignment-4/blob/main/Project_5.ipynb\" target=\"_parent\"><img src=\"https://colab.research.google.com/assets/colab-badge.svg\" alt=\"Open In Colab\"/></a>"
      ]
    },
    {
      "cell_type": "markdown",
      "source": [
        "***HANGMAN GAME***"
      ],
      "metadata": {
        "id": "4O3DMxMtNV5i"
      }
    },
    {
      "cell_type": "code",
      "source": [
        "import random\n",
        "\n",
        "# step 1 : words list\n",
        "words = [\"books\" , \"mountains\" , \"nature\" , \"light\" , \"path\" , \"guidance\" , \"health\" , \"dreams\" , \"accomplishment\" , \"joy\"]\n",
        "word = random.choice(words)\n",
        "guessed_letters = []\n",
        "tries = 6\n",
        "\n",
        "print(\" 🎮 Welcome to Hangman!\")\n",
        "print(\"_\" * len(word))\n",
        "\n",
        "# step 2: Game Loop\n",
        "while tries > 0:\n",
        "  guess = input(\"Guess a letter: \").lower()\n",
        "\n",
        "  if guess in guessed_letters:\n",
        "    print(\"You already guessed that letter!\")\n",
        "    continue\n",
        "  guessed_letters.append(guess)\n",
        "\n",
        "  if guess in word:\n",
        "    print(\"Coorect! ✅\")\n",
        "  else:\n",
        "    print(\"Wrong! ❌\")\n",
        "    tries -= 1\n",
        "    print(f\"Tries left: {tries}\")\n",
        "\n",
        "   # show current progress\n",
        "    display_word = \"\"\n",
        "    for letter in word:\n",
        "       if letter in guessed_letters:\n",
        "         display_word += letter + \"\"\n",
        "       else:\n",
        "          display_word += \"_ \"\n",
        "  print(display_word.strip())\n",
        "\n",
        "    # check if word fully guessed\n",
        "  if all(letter in guessed_letters for letter in word):\n",
        "   print(\"You Won! 😎\")\n",
        "   break\n",
        "\n",
        "\n",
        "else:\n",
        "  print(f\"You lost! 😐 The word was {word}\")\n",
        "\n",
        "\n",
        "\n"
      ],
      "metadata": {
        "colab": {
          "base_uri": "https://localhost:8080/"
        },
        "id": "6Feqp5AXNfaB",
        "outputId": "f1a2302b-797d-4ce2-b440-6d1f2d831329"
      },
      "execution_count": 7,
      "outputs": [
        {
          "output_type": "stream",
          "name": "stdout",
          "text": [
            " 🎮 Welcome to Hangman!\n",
            "_____\n",
            "Guess a letter: h\n",
            "Wrong! ❌\n",
            "Tries left: 5\n",
            "_ _ _ _ _\n",
            "Guess a letter: t\n",
            "Wrong! ❌\n",
            "Tries left: 4\n",
            "_ _ _ _ _\n",
            "Guess a letter: y\n",
            "Wrong! ❌\n",
            "Tries left: 3\n",
            "_ _ _ _ _\n",
            "Guess a letter: f\n",
            "Wrong! ❌\n",
            "Tries left: 2\n",
            "_ _ _ _ _\n",
            "Guess a letter: j\n",
            "Wrong! ❌\n",
            "Tries left: 1\n",
            "_ _ _ _ _\n",
            "Guess a letter: d\n",
            "Wrong! ❌\n",
            "Tries left: 0\n",
            "_ _ _ _ _\n",
            "You lost! 😐 The word was books\n"
          ]
        }
      ]
    }
  ]
}