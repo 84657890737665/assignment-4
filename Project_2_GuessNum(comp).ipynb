{
  "nbformat": 4,
  "nbformat_minor": 0,
  "metadata": {
    "colab": {
      "provenance": [],
      "authorship_tag": "ABX9TyMEqG1C7lbfIvXCQNErLjuG",
      "include_colab_link": true
    },
    "kernelspec": {
      "name": "python3",
      "display_name": "Python 3"
    },
    "language_info": {
      "name": "python"
    }
  },
  "cells": [
    {
      "cell_type": "markdown",
      "metadata": {
        "id": "view-in-github",
        "colab_type": "text"
      },
      "source": [
        "<a href=\"https://colab.research.google.com/github/84657890737665/assignment-4/blob/main/Project_2_GuessNum(comp).ipynb\" target=\"_parent\"><img src=\"https://colab.research.google.com/assets/colab-badge.svg\" alt=\"Open In Colab\"/></a>"
      ]
    },
    {
      "cell_type": "markdown",
      "source": [
        "**Guess The Number Game**"
      ],
      "metadata": {
        "id": "rmzrEIzUihtf"
      }
    },
    {
      "cell_type": "code",
      "source": [
        "import random\n",
        "\n",
        "print(\"Welcome to Our Guess the Number Game!\")\n",
        "print(\"-\"*50)\n",
        "\n",
        "print(\"I've choose the number between 1-100 \\n\")\n",
        "secret_num=random.randint(1,100)\n",
        "attempts=0\n",
        "\n",
        "while True:\n",
        "  try:\n",
        "    user_guess=int(input(\"Enter your guess: \"))\n",
        "    attempts+=1\n",
        "    print(\"-\"*50)\n",
        "    if user_guess<1 or user_guess >100:\n",
        "      print(\"Invalid Number!\")\n",
        "    elif user_guess < secret_num:\n",
        "      print(\"Too Low! Try a higher number.\")\n",
        "    elif user_guess > secret_num:\n",
        "      print(\"Too High! Try a lower number.\")\n",
        "    else:\n",
        "      print(f\"Congrats! The number was {secret_num}\")\n",
        "      print(f\"You guessed it in {attempts} attempts!\")\n",
        "      break\n",
        "  except ValueError:\n",
        "    print(\"Input a Valid Number\")\n"
      ],
      "metadata": {
        "colab": {
          "base_uri": "https://localhost:8080/"
        },
        "id": "ZJ_UflimiwQu",
        "outputId": "c782e687-20b4-4cdb-b82d-a7aa3724143c"
      },
      "execution_count": 4,
      "outputs": [
        {
          "output_type": "stream",
          "name": "stdout",
          "text": [
            "Welcome to Our Guess the Number Game!\n",
            "--------------------------------------------------\n",
            "I've choose the number between 1-100 \n",
            "\n",
            "Enter your guess: 10\n",
            "--------------------------------------------------\n",
            "Too Low! Try a higher number.\n",
            "Enter your guess: 25\n",
            "--------------------------------------------------\n",
            "Too Low! Try a higher number.\n",
            "Enter your guess: 58\n",
            "--------------------------------------------------\n",
            "Too High! Try a lower number.\n",
            "Enter your guess: 40\n",
            "--------------------------------------------------\n",
            "Too Low! Try a higher number.\n",
            "Enter your guess: 48\n",
            "--------------------------------------------------\n",
            "Too High! Try a lower number.\n",
            "Enter your guess: 44\n",
            "--------------------------------------------------\n",
            "Too High! Try a lower number.\n",
            "Enter your guess: 41\n",
            "--------------------------------------------------\n",
            "Congrats! The number was 41\n",
            "You guessed it in 7 attempts!\n"
          ]
        }
      ]
    }
  ]
}